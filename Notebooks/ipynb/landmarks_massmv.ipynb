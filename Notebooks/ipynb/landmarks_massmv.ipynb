{
 "cells": [
  {
   "cell_type": "markdown",
   "metadata": {},
   "source": [
    "# Mass-multivariate analysis of 2D <span style=\"color:#b18bbb\">landmark</span> data in <span style=\"color:#8476b5\">Python</span>\n",
    "\n",
    "\n",
    "**This notebook**...\n",
    "* ... provides an overview of mass-multivariate, two-sample hypothesis testing of 2D landmark data in Python\n",
    "* ... explains the details of script `contours_massmv_single.py` which appears in this repository\n",
    "* ... is limited to mass-multivariate analysis (i.e., multivariate test statistics calculated at each point, with inference conducted in an omnibus sense over all points)\n",
    "* ... is directed at novice Python users, who may be using Python for the first time.\n",
    "* ... is likely not useful for intermediate or advanced Python users; please refer isntead to the scripts in `./lmfree2d/Python/`\n",
    "\n",
    "**Dependencies** (alphabetical order):\n",
    "* [lmfree2d](https://github.com/0todd0000/lmfree2d) &nbsp; &nbsp; (the `lmfree2d.py` module in this repository)\n",
    "* [numpy](https://numpy.org)\n",
    "* [scipy](https://scipy.org)\n",
    "* [spm1d](http://www.spm1d.org)"
   ]
  },
  {
   "cell_type": "markdown",
   "metadata": {},
   "source": [
    "___\n",
    "\n",
    "## Install software\n",
    "\n",
    "See the `contours_massmv` notebook for installation details.\n",
    "\n",
    "Note that the **scipy** package is included by default with the Anaconda package."
   ]
  },
  {
   "cell_type": "markdown",
   "metadata": {},
   "source": [
    "___\n",
    "\n",
    "## Prepare the workspace\n",
    "\n",
    "Import all of the packages we'll need for this notebook."
   ]
  },
  {
   "cell_type": "code",
   "execution_count": 1,
   "metadata": {},
   "outputs": [],
   "source": [
    "import os\n",
    "import numpy as np\n",
    "from matplotlib import pyplot as plt\n",
    "import lmfree2d as lm"
   ]
  },
  {
   "cell_type": "markdown",
   "metadata": {},
   "source": [
    "___\n",
    "\n",
    "## Load data\n",
    "\n"
   ]
  },
  {
   "cell_type": "code",
   "execution_count": 2,
   "metadata": {},
   "outputs": [
    {
     "name": "stdout",
     "output_type": "stream",
     "text": [
      "(10, 8, 2)\n"
     ]
    }
   ],
   "source": [
    "dirREPO  = lm.get_repository_path()\n",
    "name     = 'Bell'\n",
    "fname    = os.path.join(dirREPO, 'Data', name, 'landmarks.csv')\n",
    "r        = lm.read_landmarks_csv(fname)\n",
    "\n",
    "print( r.shape )"
   ]
  },
  {
   "cell_type": "markdown",
   "metadata": {},
   "source": [
    "The variable `r` is a (10 x 8 x 2) array that contains the contents of the `landmarks.csv` file. The three array dimensions represent:\n",
    "\n",
    "* 10 : number of shapes\n",
    "* 8 : number of landmarks\n",
    "* 2 : number of point coordinates (XY)\n",
    "\n"
   ]
  },
  {
   "cell_type": "code",
   "execution_count": 3,
   "metadata": {},
   "outputs": [
    {
     "data": {
      "image/png": "[encoded data removed]",
      "text/plain": [
       "<Figure size 432x288 with 1 Axes>"
      ]
     },
     "metadata": {
      "needs_background": "light"
     },
     "output_type": "display_data"
    }
   ],
   "source": [
    "plt.figure()\n",
    "ax = plt.axes()\n",
    "lm.plot_registration(ax, r)\n",
    "plt.show()"
   ]
  },
  {
   "cell_type": "markdown",
   "metadata": {},
   "source": [
    "___\n",
    "\n",
    "## Spatially align the landmarks\n",
    "\n",
    "Landmarks can be registered (i.e., spatially aligned) using the `register_procrustes` function in **lmfree2d** as shown below.\n",
    "\n",
    "**Note!**\n",
    "* Landmarks are usually aligned using Generalized Procrustes Analysis (GPA).\n",
    "* GPA can be easily conducted in R as demonstrated in the `landmarks_uv` notebook.\n",
    "* GPA is an iterative Procrustes fitting process.\n",
    "* The **lmfree2d** Procrustes alignment procedure in `register_procrustes` is equivalent to just a single iteration of GPA\n",
    "* The `register_procrustes` function will achieve approximately the same results as GPA, but there may be cases where the results are qualitatively different.\n",
    "* For general landmark analysis it is advisable to use GPA, and not `register_procrustes`\n"
   ]
  },
  {
   "cell_type": "code",
   "execution_count": 4,
   "metadata": {},
   "outputs": [
    {
     "data": {
      "image/png": "[encoded data removed]",
      "text/plain": [
       "<Figure size 432x288 with 1 Axes>"
      ]
     },
     "metadata": {
      "needs_background": "light"
     },
     "output_type": "display_data"
    }
   ],
   "source": [
    "r_template = r[0]\n",
    "r = lm.register_procrustes(r, r_template)\n",
    "\n",
    "plt.figure()\n",
    "ax = plt.axes()\n",
    "lm.plot_registration(ax, r)\n",
    "plt.show()\n"
   ]
  },
  {
   "cell_type": "markdown",
   "metadata": {},
   "source": [
    "Note that individual landmark locations are now more tightly centered around the mean location.\n"
   ]
  },
  {
   "cell_type": "markdown",
   "metadata": {},
   "source": [
    "___\n",
    "\n",
    "## Conduct hypothesis test\n",
    "\n",
    "Now that the landmarks are spatially registered, it is possible to conduct mass-multivariate hypothesis testing. Here we use [spm1d](https://spm1d.org) for this purpose. The goal will be to compare the mean shapes from two groups, where the first group consists of the first five shapes and the second group consists of the last five shapes.\n",
    "\n",
    "A parametric two-sample test can be conducted as follows:"
   ]
  },
  {
   "cell_type": "code",
   "execution_count": 5,
   "metadata": {},
   "outputs": [
    {
     "name": "stdout",
     "output_type": "stream",
     "text": [
      "TwoSampleSPMResults\n",
      "   npoints      = 8\n",
      "   T2_max       = 10.224\n",
      "----- Inference -----\n",
      "   alpha        = 0.050\n",
      "   T2_critical  = 26.107\n",
      "   p            = 0.448\n",
      "\n"
     ]
    }
   ],
   "source": [
    "rA      = r[:5] # Group A\n",
    "rB      = r[5:] # Group B\n",
    "\n",
    "results = lm.two_sample_test(rA, rB, alpha=0.05, parametric=True)\n",
    "\n",
    "print(results)\n"
   ]
  },
  {
   "cell_type": "markdown",
   "metadata": {},
   "source": [
    "These results indicate a p value of 0.448, implying that there is insufficient evidence to reject the null hypothesis of equivalent group mean shapes.\n",
    "\n",
    "A nonparametric version of the test can be conducted by setting the `parametric` keyword to `False`, and optionally also specifying the `iterations` keyword as indicated below. Setting `iterations` to `-1` will conduct all possible landmark permutations."
   ]
  },
  {
   "cell_type": "code",
   "execution_count": 6,
   "metadata": {},
   "outputs": [
    {
     "name": "stdout",
     "output_type": "stream",
     "text": [
      "TwoSampleSPMResults\n",
      "   npoints      = 8\n",
      "   T2_max       = 10.224\n",
      "----- Inference -----\n",
      "   alpha        = 0.050\n",
      "   T2_critical  = 24.639\n",
      "   p            = 0.317\n",
      "\n"
     ]
    }
   ],
   "source": [
    "results = lm.two_sample_test(rA, rB, alpha=0.05, parametric=False, iterations=-1)\n",
    "\n",
    "print(results)\n"
   ]
  },
  {
   "cell_type": "markdown",
   "metadata": {},
   "source": [
    "Refer to the [spm1d documentation](https://spm1d.org/Documentation.html) and the `contours_massmv` notebook for further details."
   ]
  }
 ],
 "metadata": {
  "kernelspec": {
   "display_name": "Python 3",
   "language": "python",
   "name": "python3"
  },
  "language_info": {
   "codemirror_mode": {
    "name": "ipython",
    "version": 3
   },
   "file_extension": ".py",
   "mimetype": "text/x-python",
   "name": "python",
   "nbconvert_exporter": "python",
   "pygments_lexer": "ipython3",
   "version": "3.7.6"
  }
 },
 "nbformat": 4,
 "nbformat_minor": 4
}
