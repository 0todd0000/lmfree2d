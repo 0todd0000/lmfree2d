{
 "cells": [
  {
   "cell_type": "markdown",
   "metadata": {},
   "source": [
    "# Mass-multivariate analysis of 2D <span style=\"color:#b18bbb\">landmark</span> data in <span style=\"color:#8476b5\">Python</span>\n",
    "\n",
    "\n",
    "**This notebook**...\n",
    "* ... provides an overview of mass-multivariate, two-sample hypothesis testing of 2D landmark data in Python\n",
    "* ... explains the details of script `contours_massmv_single.py` which appears in this repository\n",
    "* ... is limited to mass-multivariate analysis (i.e., multivariate test statistics calculated at each point, with inference conducted in an omnibus sense over all points)\n",
    "* ... is directed at novice Python users, who may be using Python for the first time.\n",
    "* ... is likely not useful for intermediate or advanced Python users; please refer isntead to the scripts in `./lmfree2d/Python/`\n",
    "\n",
    "**Dependencies** (alphabetical order):\n",
    "* [lmfree2d](https://github.com/0todd0000/lmfree2d) &nbsp; &nbsp; (the `lmfree2d.py` module in this repository)\n",
    "* [numpy](https://numpy.org)\n",
    "* [scipy](https://scipy.org)\n",
    "* [spm1d](http://www.spm1d.org)"
   ]
  },
  {
   "cell_type": "markdown",
   "metadata": {},
   "source": [
    "___\n",
    "\n",
    "## Install software\n",
    "\n",
    "See the `contours_massmv` notebook for installation details.\n",
    "\n",
    "Note that the **scipy** package is included by default with the Anaconda package."
   ]
  },
  {
   "cell_type": "markdown",
   "metadata": {},
   "source": [
    "___\n",
    "\n",
    "# Prepare the workspace\n",
    "\n",
    "Import all of the packages we'll need for this notebook."
   ]
  },
  {
   "cell_type": "code",
   "execution_count": 11,
   "metadata": {},
   "outputs": [],
   "source": [
    "import os\n",
    "import numpy as np\n",
    "from scipy import spatial\n",
    "import lmfree2d as lm"
   ]
  },
  {
   "cell_type": "markdown",
   "metadata": {},
   "source": [
    "___\n",
    "\n",
    "## Load data\n",
    "\n"
   ]
  },
  {
   "cell_type": "code",
   "execution_count": 7,
   "metadata": {},
   "outputs": [
    {
     "name": "stdout",
     "output_type": "stream",
     "text": [
      "(80, 4)\n"
     ]
    }
   ],
   "source": [
    "dirREPO  = lm.get_repository_path()\n",
    "name     = 'Bell'\n",
    "fname    = os.path.join(dirREPO, 'Data', name, 'landmarks.csv')\n",
    "a        = np.loadtxt(fname, delimiter=',', skiprows=1)\n",
    "\n",
    "print( a.shape )"
   ]
  },
  {
   "cell_type": "markdown",
   "metadata": {},
   "source": [
    "The variable `a` is an (80 x 4) array that contains the contents of the `landmarks.csv` file. The four columns are:\n",
    "\n",
    "* Shape :  integers that identify shapes (1 to 10)\n",
    "* Landmark :  integers that identify landmarks (1 to 8)\n",
    "* X : the landmarks' X coordinates\n",
    "* Y : the landmarks' Y coordinates\n",
    "\n",
    "Let's assemble a into meaningful variable names:"
   ]
  },
  {
   "cell_type": "code",
   "execution_count": 9,
   "metadata": {},
   "outputs": [
    {
     "name": "stdout",
     "output_type": "stream",
     "text": [
      "(80, 2)\n"
     ]
    }
   ],
   "source": [
    "shape    = a[:,0]\n",
    "landmark = a[:,1]\n",
    "r        = a[:,[2,3]]  # XY coordinates\n",
    "\n",
    "print( r.shape )"
   ]
  },
  {
   "cell_type": "markdown",
   "metadata": {},
   "source": [
    "___\n",
    "\n",
    "## Spatially align the landmarks\n",
    "\n",
    "Usually landmarks are aligned using Generalized Procrustes Analysis (GPA), as demonstrated in the `landmarks_uv` notebook for R. Below a simpler method from **scipy** is used so that all processing can be achieved in Python. For general analysis, it would be better to use GPA in R."
   ]
  },
  {
   "cell_type": "code",
   "execution_count": 13,
   "metadata": {},
   "outputs": [
    {
     "ename": "AttributeError",
     "evalue": "'tuple' object has no attribute 'shape'",
     "output_type": "error",
     "traceback": [
      "\u001b[0;31m---------------------------------------------------------------------------\u001b[0m",
      "\u001b[0;31mAttributeError\u001b[0m                            Traceback (most recent call last)",
      "\u001b[0;32m<ipython-input-13-2a6aeb234792>\u001b[0m in \u001b[0;36m<module>\u001b[0;34m\u001b[0m\n\u001b[1;32m      4\u001b[0m \u001b[0mr22\u001b[0m \u001b[0;34m=\u001b[0m \u001b[0mspatial\u001b[0m\u001b[0;34m.\u001b[0m\u001b[0mprocrustes\u001b[0m\u001b[0;34m(\u001b[0m\u001b[0mr1\u001b[0m\u001b[0;34m,\u001b[0m \u001b[0mr2\u001b[0m\u001b[0;34m)\u001b[0m\u001b[0;34m\u001b[0m\u001b[0;34m\u001b[0m\u001b[0m\n\u001b[1;32m      5\u001b[0m \u001b[0;34m\u001b[0m\u001b[0m\n\u001b[0;32m----> 6\u001b[0;31m \u001b[0mprint\u001b[0m\u001b[0;34m(\u001b[0m\u001b[0mr22\u001b[0m\u001b[0;34m.\u001b[0m\u001b[0mshape\u001b[0m\u001b[0;34m)\u001b[0m\u001b[0;34m\u001b[0m\u001b[0;34m\u001b[0m\u001b[0m\n\u001b[0m",
      "\u001b[0;31mAttributeError\u001b[0m: 'tuple' object has no attribute 'shape'"
     ]
    }
   ],
   "source": [
    "r1 = r[shape==1]\n",
    "r2 = r[shape==2]\n",
    "\n",
    "r22 = spatial.procrustes(r1, r2)\n",
    "\n",
    "print(r22.shape)"
   ]
  },
  {
   "cell_type": "code",
   "execution_count": null,
   "metadata": {},
   "outputs": [],
   "source": []
  },
  {
   "cell_type": "code",
   "execution_count": 4,
   "metadata": {},
   "outputs": [
    {
     "name": "stdout",
     "output_type": "stream",
     "text": [
      "<module 'lmfree2d' from '/Users/todd/GitHub/lmfree2d/Python/lmfree2d.py'>\n"
     ]
    }
   ],
   "source": [
    "\n",
    "df       = pd.read_csv(fname, sep=',')\n",
    "### convert to 3D array (nshapes, nlandmarks, 2)\n",
    "nshapes  = df['SHAPE'].max()\n",
    "nlm      = df['LANDMARK'].max()\n",
    "r        = np.reshape( df[['X','Y']].values, (nshapes,nlm,2) )\n",
    "### separate into groups:\n",
    "r0,r1    = r[:5], r[5:]\n",
    "### run nonparametric permutation test:\n",
    "res      = two_sample_mass_multivariate_test(r0, r1)\n",
    "print(res)\n"
   ]
  }
 ],
 "metadata": {
  "kernelspec": {
   "display_name": "Python 3",
   "language": "python",
   "name": "python3"
  },
  "language_info": {
   "codemirror_mode": {
    "name": "ipython",
    "version": 3
   },
   "file_extension": ".py",
   "mimetype": "text/x-python",
   "name": "python",
   "nbconvert_exporter": "python",
   "pygments_lexer": "ipython3",
   "version": "3.7.6"
  }
 },
 "nbformat": 4,
 "nbformat_minor": 4
}
